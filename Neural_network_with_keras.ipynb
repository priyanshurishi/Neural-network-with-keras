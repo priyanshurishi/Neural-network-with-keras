{
  "nbformat": 4,
  "nbformat_minor": 0,
  "metadata": {
    "colab": {
      "name": "Neural network with keras.ipynb",
      "provenance": [],
      "collapsed_sections": [],
      "authorship_tag": "ABX9TyOoLsT/N5Evdh7+rsh/fEeH",
      "include_colab_link": true
    },
    "kernelspec": {
      "name": "python3",
      "display_name": "Python 3"
    },
    "language_info": {
      "name": "python"
    }
  },
  "cells": [
    {
      "cell_type": "markdown",
      "metadata": {
        "id": "view-in-github",
        "colab_type": "text"
      },
      "source": [
        "<a href=\"https://colab.research.google.com/github/priyanshurishi/Neural-network-with-keras/blob/main/Neural_network_with_keras.ipynb\" target=\"_parent\"><img src=\"https://colab.research.google.com/assets/colab-badge.svg\" alt=\"Open In Colab\"/></a>"
      ]
    },
    {
      "cell_type": "code",
      "metadata": {
        "id": "5U3SIbAbqihj"
      },
      "source": [
        ""
      ],
      "execution_count": null,
      "outputs": []
    },
    {
      "cell_type": "code",
      "metadata": {
        "id": "7PayinPy9nU_"
      },
      "source": [
        "import pandas as pd"
      ],
      "execution_count": null,
      "outputs": []
    },
    {
      "cell_type": "code",
      "metadata": {
        "id": "lwjCjeGl-Ch1"
      },
      "source": [
        "df = pd.read_csv('/content/housepricedata.csv')"
      ],
      "execution_count": null,
      "outputs": []
    },
    {
      "cell_type": "markdown",
      "metadata": {
        "id": "Rj2RRKbh-sf4"
      },
      "source": [
        "**About Dataset**\n",
        "\n",
        "There are totally 11 columns and in our last column, we have the feature that we would like to predict:\n",
        "* Is the house price above the median or not? (1 for yes and 0 for no)\n",
        "\n",
        "https://www.freecodecamp.org/news/how-to-build-your-first-neural-network-to-predict-house-prices-with-keras-f8db83049159/\n",
        "\n",
        "\n",
        "\n"
      ]
    },
    {
      "cell_type": "code",
      "metadata": {
        "colab": {
          "base_uri": "https://localhost:8080/",
          "height": 423
        },
        "id": "r5BR28UQ-VoO",
        "outputId": "aa0fafea-ebf2-4c61-d93b-46df363e8843"
      },
      "source": [
        "df"
      ],
      "execution_count": null,
      "outputs": [
        {
          "output_type": "execute_result",
          "data": {
            "text/html": [
              "<div>\n",
              "<style scoped>\n",
              "    .dataframe tbody tr th:only-of-type {\n",
              "        vertical-align: middle;\n",
              "    }\n",
              "\n",
              "    .dataframe tbody tr th {\n",
              "        vertical-align: top;\n",
              "    }\n",
              "\n",
              "    .dataframe thead th {\n",
              "        text-align: right;\n",
              "    }\n",
              "</style>\n",
              "<table border=\"1\" class=\"dataframe\">\n",
              "  <thead>\n",
              "    <tr style=\"text-align: right;\">\n",
              "      <th></th>\n",
              "      <th>LotArea</th>\n",
              "      <th>OverallQual</th>\n",
              "      <th>OverallCond</th>\n",
              "      <th>TotalBsmtSF</th>\n",
              "      <th>FullBath</th>\n",
              "      <th>HalfBath</th>\n",
              "      <th>BedroomAbvGr</th>\n",
              "      <th>TotRmsAbvGrd</th>\n",
              "      <th>Fireplaces</th>\n",
              "      <th>GarageArea</th>\n",
              "      <th>AboveMedianPrice</th>\n",
              "    </tr>\n",
              "  </thead>\n",
              "  <tbody>\n",
              "    <tr>\n",
              "      <th>0</th>\n",
              "      <td>8450</td>\n",
              "      <td>7</td>\n",
              "      <td>5</td>\n",
              "      <td>856</td>\n",
              "      <td>2</td>\n",
              "      <td>1</td>\n",
              "      <td>3</td>\n",
              "      <td>8</td>\n",
              "      <td>0</td>\n",
              "      <td>548</td>\n",
              "      <td>1</td>\n",
              "    </tr>\n",
              "    <tr>\n",
              "      <th>1</th>\n",
              "      <td>9600</td>\n",
              "      <td>6</td>\n",
              "      <td>8</td>\n",
              "      <td>1262</td>\n",
              "      <td>2</td>\n",
              "      <td>0</td>\n",
              "      <td>3</td>\n",
              "      <td>6</td>\n",
              "      <td>1</td>\n",
              "      <td>460</td>\n",
              "      <td>1</td>\n",
              "    </tr>\n",
              "    <tr>\n",
              "      <th>2</th>\n",
              "      <td>11250</td>\n",
              "      <td>7</td>\n",
              "      <td>5</td>\n",
              "      <td>920</td>\n",
              "      <td>2</td>\n",
              "      <td>1</td>\n",
              "      <td>3</td>\n",
              "      <td>6</td>\n",
              "      <td>1</td>\n",
              "      <td>608</td>\n",
              "      <td>1</td>\n",
              "    </tr>\n",
              "    <tr>\n",
              "      <th>3</th>\n",
              "      <td>9550</td>\n",
              "      <td>7</td>\n",
              "      <td>5</td>\n",
              "      <td>756</td>\n",
              "      <td>1</td>\n",
              "      <td>0</td>\n",
              "      <td>3</td>\n",
              "      <td>7</td>\n",
              "      <td>1</td>\n",
              "      <td>642</td>\n",
              "      <td>0</td>\n",
              "    </tr>\n",
              "    <tr>\n",
              "      <th>4</th>\n",
              "      <td>14260</td>\n",
              "      <td>8</td>\n",
              "      <td>5</td>\n",
              "      <td>1145</td>\n",
              "      <td>2</td>\n",
              "      <td>1</td>\n",
              "      <td>4</td>\n",
              "      <td>9</td>\n",
              "      <td>1</td>\n",
              "      <td>836</td>\n",
              "      <td>1</td>\n",
              "    </tr>\n",
              "    <tr>\n",
              "      <th>...</th>\n",
              "      <td>...</td>\n",
              "      <td>...</td>\n",
              "      <td>...</td>\n",
              "      <td>...</td>\n",
              "      <td>...</td>\n",
              "      <td>...</td>\n",
              "      <td>...</td>\n",
              "      <td>...</td>\n",
              "      <td>...</td>\n",
              "      <td>...</td>\n",
              "      <td>...</td>\n",
              "    </tr>\n",
              "    <tr>\n",
              "      <th>1455</th>\n",
              "      <td>7917</td>\n",
              "      <td>6</td>\n",
              "      <td>5</td>\n",
              "      <td>953</td>\n",
              "      <td>2</td>\n",
              "      <td>1</td>\n",
              "      <td>3</td>\n",
              "      <td>7</td>\n",
              "      <td>1</td>\n",
              "      <td>460</td>\n",
              "      <td>1</td>\n",
              "    </tr>\n",
              "    <tr>\n",
              "      <th>1456</th>\n",
              "      <td>13175</td>\n",
              "      <td>6</td>\n",
              "      <td>6</td>\n",
              "      <td>1542</td>\n",
              "      <td>2</td>\n",
              "      <td>0</td>\n",
              "      <td>3</td>\n",
              "      <td>7</td>\n",
              "      <td>2</td>\n",
              "      <td>500</td>\n",
              "      <td>1</td>\n",
              "    </tr>\n",
              "    <tr>\n",
              "      <th>1457</th>\n",
              "      <td>9042</td>\n",
              "      <td>7</td>\n",
              "      <td>9</td>\n",
              "      <td>1152</td>\n",
              "      <td>2</td>\n",
              "      <td>0</td>\n",
              "      <td>4</td>\n",
              "      <td>9</td>\n",
              "      <td>2</td>\n",
              "      <td>252</td>\n",
              "      <td>1</td>\n",
              "    </tr>\n",
              "    <tr>\n",
              "      <th>1458</th>\n",
              "      <td>9717</td>\n",
              "      <td>5</td>\n",
              "      <td>6</td>\n",
              "      <td>1078</td>\n",
              "      <td>1</td>\n",
              "      <td>0</td>\n",
              "      <td>2</td>\n",
              "      <td>5</td>\n",
              "      <td>0</td>\n",
              "      <td>240</td>\n",
              "      <td>0</td>\n",
              "    </tr>\n",
              "    <tr>\n",
              "      <th>1459</th>\n",
              "      <td>9937</td>\n",
              "      <td>5</td>\n",
              "      <td>6</td>\n",
              "      <td>1256</td>\n",
              "      <td>1</td>\n",
              "      <td>1</td>\n",
              "      <td>3</td>\n",
              "      <td>6</td>\n",
              "      <td>0</td>\n",
              "      <td>276</td>\n",
              "      <td>0</td>\n",
              "    </tr>\n",
              "  </tbody>\n",
              "</table>\n",
              "<p>1460 rows × 11 columns</p>\n",
              "</div>"
            ],
            "text/plain": [
              "      LotArea  OverallQual  ...  GarageArea  AboveMedianPrice\n",
              "0        8450            7  ...         548                 1\n",
              "1        9600            6  ...         460                 1\n",
              "2       11250            7  ...         608                 1\n",
              "3        9550            7  ...         642                 0\n",
              "4       14260            8  ...         836                 1\n",
              "...       ...          ...  ...         ...               ...\n",
              "1455     7917            6  ...         460                 1\n",
              "1456    13175            6  ...         500                 1\n",
              "1457     9042            7  ...         252                 1\n",
              "1458     9717            5  ...         240                 0\n",
              "1459     9937            5  ...         276                 0\n",
              "\n",
              "[1460 rows x 11 columns]"
            ]
          },
          "metadata": {},
          "execution_count": 3
        }
      ]
    },
    {
      "cell_type": "code",
      "metadata": {
        "id": "isD5G9iT-jOa"
      },
      "source": [
        "#convert it into arrays for our machine to process it\n",
        "dataset = df.values"
      ],
      "execution_count": null,
      "outputs": []
    },
    {
      "cell_type": "code",
      "metadata": {
        "colab": {
          "base_uri": "https://localhost:8080/"
        },
        "id": "uwiZSNEx_sjU",
        "outputId": "e50984a0-ee8b-489f-942d-88729aee907e"
      },
      "source": [
        "dataset"
      ],
      "execution_count": null,
      "outputs": [
        {
          "output_type": "execute_result",
          "data": {
            "text/plain": [
              "array([[ 8450,     7,     5, ...,     0,   548,     1],\n",
              "       [ 9600,     6,     8, ...,     1,   460,     1],\n",
              "       [11250,     7,     5, ...,     1,   608,     1],\n",
              "       ...,\n",
              "       [ 9042,     7,     9, ...,     2,   252,     1],\n",
              "       [ 9717,     5,     6, ...,     0,   240,     0],\n",
              "       [ 9937,     5,     6, ...,     0,   276,     0]])"
            ]
          },
          "metadata": {},
          "execution_count": 5
        }
      ]
    },
    {
      "cell_type": "markdown",
      "metadata": {
        "id": "ducSeiQwAHWI"
      },
      "source": [
        "Now, split our dataset into input features (X) and the feature we wish to predict (Y). To do that split, we simply assign the first 10 columns of our array to a variable called X and the last column of our array to a variable called Y."
      ]
    },
    {
      "cell_type": "code",
      "metadata": {
        "id": "qf2AG0Ty_vPk"
      },
      "source": [
        "X = dataset[:,0:10]\n",
        "Y = dataset[:,10]"
      ],
      "execution_count": null,
      "outputs": []
    },
    {
      "cell_type": "code",
      "metadata": {
        "colab": {
          "base_uri": "https://localhost:8080/"
        },
        "id": "hBbyo51RAT3x",
        "outputId": "12584b0b-16e4-41b3-8451-ce3ec89ba3bc"
      },
      "source": [
        "#importing min-max scaler which scales the dataset so that all the input features lie between 0 and 1\n",
        "from sklearn import preprocessing\n",
        "min_max_scaler = preprocessing.MinMaxScaler()\n",
        "X_scale = min_max_scaler.fit_transform(X)\n",
        "X_scale"
      ],
      "execution_count": null,
      "outputs": [
        {
          "output_type": "execute_result",
          "data": {
            "text/plain": [
              "array([[0.0334198 , 0.66666667, 0.5       , ..., 0.5       , 0.        ,\n",
              "        0.3864598 ],\n",
              "       [0.03879502, 0.55555556, 0.875     , ..., 0.33333333, 0.33333333,\n",
              "        0.32440056],\n",
              "       [0.04650728, 0.66666667, 0.5       , ..., 0.33333333, 0.33333333,\n",
              "        0.42877292],\n",
              "       ...,\n",
              "       [0.03618687, 0.66666667, 1.        , ..., 0.58333333, 0.66666667,\n",
              "        0.17771509],\n",
              "       [0.03934189, 0.44444444, 0.625     , ..., 0.25      , 0.        ,\n",
              "        0.16925247],\n",
              "       [0.04037019, 0.44444444, 0.625     , ..., 0.33333333, 0.        ,\n",
              "        0.19464034]])"
            ]
          },
          "metadata": {},
          "execution_count": 7
        }
      ]
    },
    {
      "cell_type": "code",
      "metadata": {
        "colab": {
          "base_uri": "https://localhost:8080/"
        },
        "id": "NcKRc2KRAatl",
        "outputId": "44e73e09-61ea-4982-d9c5-4c32db0613fe"
      },
      "source": [
        "#importing train_test_split which plit our dataset into a training set and a test set. \n",
        "from sklearn.model_selection import train_test_split\n",
        "X_train, X_val_and_test, Y_train, Y_val_and_test = train_test_split(X_scale, Y, test_size=0.3)\n",
        "X_val, X_test, Y_val, Y_test = train_test_split(X_val_and_test, Y_val_and_test, test_size=0.5)\n",
        "print(X_train.shape, X_val.shape, X_test.shape, Y_train.shape, Y_val.shape, Y_test.shape)"
      ],
      "execution_count": null,
      "outputs": [
        {
          "output_type": "stream",
          "name": "stdout",
          "text": [
            "(1022, 10) (219, 10) (219, 10) (1022,) (219,) (219,)\n"
          ]
        }
      ]
    },
    {
      "cell_type": "code",
      "metadata": {
        "id": "uobdKhwfBOw5"
      },
      "source": [
        "#importing keras\n",
        "from keras.models import Sequential\n",
        "from keras.layers import Dense"
      ],
      "execution_count": null,
      "outputs": []
    },
    {
      "cell_type": "code",
      "metadata": {
        "id": "wnEVO-TeB3Ry"
      },
      "source": [
        "#Then, we specify that in our Keras sequential model\n",
        "model = Sequential([\n",
        "    Dense(32, activation='relu', input_shape=(10,)),\n",
        "    Dense(32, activation='relu'),\n",
        "    Dense(1, activation='sigmoid'),])"
      ],
      "execution_count": null,
      "outputs": []
    },
    {
      "cell_type": "code",
      "metadata": {
        "id": "EV2TuenZr4fe"
      },
      "source": [
        "from tensorflow.keras.callbacks import EarlyStopping\n",
        "cb = EarlyStopping(monitor='val_loss', mode='min', verbose=1, patience=100)"
      ],
      "execution_count": null,
      "outputs": []
    },
    {
      "cell_type": "code",
      "metadata": {
        "id": "PuZu7lSGCCfB"
      },
      "source": [
        "#Configuring the model with these settings requires us to call the function model.compile\n",
        "model.compile(optimizer='sgd',\n",
        "              loss='binary_crossentropy',\n",
        "              metrics=['accuracy'])"
      ],
      "execution_count": null,
      "outputs": []
    },
    {
      "cell_type": "code",
      "metadata": {
        "colab": {
          "base_uri": "https://localhost:8080/"
        },
        "id": "89i2HtRmsIFG",
        "outputId": "7ca508e1-5771-46e6-b624-98793260411e"
      },
      "source": [
        "model.fit(x=X_train,y=Y_train, validation_data=(X_test, Y_test), batch_size=128, epochs=150, callbacks=[cb])\n",
        "# batch_size in power of two"
      ],
      "execution_count": null,
      "outputs": [
        {
          "output_type": "stream",
          "name": "stdout",
          "text": [
            "Epoch 1/150\n",
            "8/8 [==============================] - 1s 25ms/step - loss: 0.4895 - accuracy: 0.8483 - val_loss: 0.5077 - val_accuracy: 0.8311\n",
            "Epoch 2/150\n",
            "8/8 [==============================] - 0s 5ms/step - loss: 0.4876 - accuracy: 0.8483 - val_loss: 0.5059 - val_accuracy: 0.8311\n",
            "Epoch 3/150\n",
            "8/8 [==============================] - 0s 5ms/step - loss: 0.4857 - accuracy: 0.8483 - val_loss: 0.5041 - val_accuracy: 0.8311\n",
            "Epoch 4/150\n",
            "8/8 [==============================] - 0s 6ms/step - loss: 0.4837 - accuracy: 0.8483 - val_loss: 0.5022 - val_accuracy: 0.8311\n",
            "Epoch 5/150\n",
            "8/8 [==============================] - 0s 6ms/step - loss: 0.4818 - accuracy: 0.8493 - val_loss: 0.5005 - val_accuracy: 0.8311\n",
            "Epoch 6/150\n",
            "8/8 [==============================] - 0s 6ms/step - loss: 0.4799 - accuracy: 0.8493 - val_loss: 0.4987 - val_accuracy: 0.8311\n",
            "Epoch 7/150\n",
            "8/8 [==============================] - 0s 6ms/step - loss: 0.4780 - accuracy: 0.8493 - val_loss: 0.4968 - val_accuracy: 0.8356\n",
            "Epoch 8/150\n",
            "8/8 [==============================] - 0s 6ms/step - loss: 0.4761 - accuracy: 0.8483 - val_loss: 0.4950 - val_accuracy: 0.8356\n",
            "Epoch 9/150\n",
            "8/8 [==============================] - 0s 6ms/step - loss: 0.4742 - accuracy: 0.8503 - val_loss: 0.4930 - val_accuracy: 0.8356\n",
            "Epoch 10/150\n",
            "8/8 [==============================] - 0s 6ms/step - loss: 0.4722 - accuracy: 0.8523 - val_loss: 0.4913 - val_accuracy: 0.8356\n",
            "Epoch 11/150\n",
            "8/8 [==============================] - 0s 6ms/step - loss: 0.4703 - accuracy: 0.8503 - val_loss: 0.4896 - val_accuracy: 0.8356\n",
            "Epoch 12/150\n",
            "8/8 [==============================] - 0s 6ms/step - loss: 0.4684 - accuracy: 0.8532 - val_loss: 0.4879 - val_accuracy: 0.8356\n",
            "Epoch 13/150\n",
            "8/8 [==============================] - 0s 6ms/step - loss: 0.4665 - accuracy: 0.8552 - val_loss: 0.4861 - val_accuracy: 0.8356\n",
            "Epoch 14/150\n",
            "8/8 [==============================] - 0s 6ms/step - loss: 0.4647 - accuracy: 0.8581 - val_loss: 0.4843 - val_accuracy: 0.8356\n",
            "Epoch 15/150\n",
            "8/8 [==============================] - 0s 6ms/step - loss: 0.4628 - accuracy: 0.8552 - val_loss: 0.4826 - val_accuracy: 0.8356\n",
            "Epoch 16/150\n",
            "8/8 [==============================] - 0s 6ms/step - loss: 0.4609 - accuracy: 0.8571 - val_loss: 0.4808 - val_accuracy: 0.8402\n",
            "Epoch 17/150\n",
            "8/8 [==============================] - 0s 5ms/step - loss: 0.4590 - accuracy: 0.8581 - val_loss: 0.4791 - val_accuracy: 0.8402\n",
            "Epoch 18/150\n",
            "8/8 [==============================] - 0s 6ms/step - loss: 0.4572 - accuracy: 0.8571 - val_loss: 0.4775 - val_accuracy: 0.8402\n",
            "Epoch 19/150\n",
            "8/8 [==============================] - 0s 6ms/step - loss: 0.4554 - accuracy: 0.8591 - val_loss: 0.4758 - val_accuracy: 0.8402\n",
            "Epoch 20/150\n",
            "8/8 [==============================] - 0s 5ms/step - loss: 0.4536 - accuracy: 0.8571 - val_loss: 0.4740 - val_accuracy: 0.8402\n",
            "Epoch 21/150\n",
            "8/8 [==============================] - 0s 6ms/step - loss: 0.4517 - accuracy: 0.8581 - val_loss: 0.4724 - val_accuracy: 0.8402\n",
            "Epoch 22/150\n",
            "8/8 [==============================] - 0s 6ms/step - loss: 0.4499 - accuracy: 0.8591 - val_loss: 0.4708 - val_accuracy: 0.8402\n",
            "Epoch 23/150\n",
            "8/8 [==============================] - 0s 5ms/step - loss: 0.4481 - accuracy: 0.8591 - val_loss: 0.4690 - val_accuracy: 0.8402\n",
            "Epoch 24/150\n",
            "8/8 [==============================] - 0s 5ms/step - loss: 0.4463 - accuracy: 0.8581 - val_loss: 0.4674 - val_accuracy: 0.8402\n",
            "Epoch 25/150\n",
            "8/8 [==============================] - 0s 5ms/step - loss: 0.4446 - accuracy: 0.8581 - val_loss: 0.4658 - val_accuracy: 0.8402\n",
            "Epoch 26/150\n",
            "8/8 [==============================] - 0s 5ms/step - loss: 0.4428 - accuracy: 0.8620 - val_loss: 0.4643 - val_accuracy: 0.8402\n",
            "Epoch 27/150\n",
            "8/8 [==============================] - 0s 5ms/step - loss: 0.4410 - accuracy: 0.8581 - val_loss: 0.4627 - val_accuracy: 0.8402\n",
            "Epoch 28/150\n",
            "8/8 [==============================] - 0s 5ms/step - loss: 0.4394 - accuracy: 0.8601 - val_loss: 0.4611 - val_accuracy: 0.8402\n",
            "Epoch 29/150\n",
            "8/8 [==============================] - 0s 7ms/step - loss: 0.4376 - accuracy: 0.8601 - val_loss: 0.4595 - val_accuracy: 0.8402\n",
            "Epoch 30/150\n",
            "8/8 [==============================] - 0s 5ms/step - loss: 0.4359 - accuracy: 0.8601 - val_loss: 0.4579 - val_accuracy: 0.8402\n",
            "Epoch 31/150\n",
            "8/8 [==============================] - 0s 5ms/step - loss: 0.4341 - accuracy: 0.8591 - val_loss: 0.4561 - val_accuracy: 0.8402\n",
            "Epoch 32/150\n",
            "8/8 [==============================] - 0s 6ms/step - loss: 0.4324 - accuracy: 0.8611 - val_loss: 0.4546 - val_accuracy: 0.8402\n",
            "Epoch 33/150\n",
            "8/8 [==============================] - 0s 6ms/step - loss: 0.4307 - accuracy: 0.8620 - val_loss: 0.4530 - val_accuracy: 0.8402\n",
            "Epoch 34/150\n",
            "8/8 [==============================] - 0s 5ms/step - loss: 0.4291 - accuracy: 0.8601 - val_loss: 0.4515 - val_accuracy: 0.8493\n",
            "Epoch 35/150\n",
            "8/8 [==============================] - 0s 6ms/step - loss: 0.4273 - accuracy: 0.8620 - val_loss: 0.4500 - val_accuracy: 0.8539\n",
            "Epoch 36/150\n",
            "8/8 [==============================] - 0s 6ms/step - loss: 0.4257 - accuracy: 0.8630 - val_loss: 0.4485 - val_accuracy: 0.8539\n",
            "Epoch 37/150\n",
            "8/8 [==============================] - 0s 5ms/step - loss: 0.4241 - accuracy: 0.8630 - val_loss: 0.4470 - val_accuracy: 0.8539\n",
            "Epoch 38/150\n",
            "8/8 [==============================] - 0s 5ms/step - loss: 0.4223 - accuracy: 0.8640 - val_loss: 0.4455 - val_accuracy: 0.8539\n",
            "Epoch 39/150\n",
            "8/8 [==============================] - 0s 6ms/step - loss: 0.4208 - accuracy: 0.8640 - val_loss: 0.4440 - val_accuracy: 0.8539\n",
            "Epoch 40/150\n",
            "8/8 [==============================] - 0s 7ms/step - loss: 0.4191 - accuracy: 0.8640 - val_loss: 0.4425 - val_accuracy: 0.8539\n",
            "Epoch 41/150\n",
            "8/8 [==============================] - 0s 6ms/step - loss: 0.4175 - accuracy: 0.8650 - val_loss: 0.4411 - val_accuracy: 0.8539\n",
            "Epoch 42/150\n",
            "8/8 [==============================] - 0s 6ms/step - loss: 0.4159 - accuracy: 0.8640 - val_loss: 0.4397 - val_accuracy: 0.8539\n",
            "Epoch 43/150\n",
            "8/8 [==============================] - 0s 6ms/step - loss: 0.4145 - accuracy: 0.8659 - val_loss: 0.4382 - val_accuracy: 0.8539\n",
            "Epoch 44/150\n",
            "8/8 [==============================] - 0s 5ms/step - loss: 0.4129 - accuracy: 0.8659 - val_loss: 0.4368 - val_accuracy: 0.8493\n",
            "Epoch 45/150\n",
            "8/8 [==============================] - 0s 5ms/step - loss: 0.4113 - accuracy: 0.8640 - val_loss: 0.4354 - val_accuracy: 0.8493\n",
            "Epoch 46/150\n",
            "8/8 [==============================] - 0s 5ms/step - loss: 0.4097 - accuracy: 0.8640 - val_loss: 0.4340 - val_accuracy: 0.8539\n",
            "Epoch 47/150\n",
            "8/8 [==============================] - 0s 6ms/step - loss: 0.4082 - accuracy: 0.8630 - val_loss: 0.4327 - val_accuracy: 0.8493\n",
            "Epoch 48/150\n",
            "8/8 [==============================] - 0s 6ms/step - loss: 0.4066 - accuracy: 0.8630 - val_loss: 0.4314 - val_accuracy: 0.8493\n",
            "Epoch 49/150\n",
            "8/8 [==============================] - 0s 6ms/step - loss: 0.4052 - accuracy: 0.8630 - val_loss: 0.4301 - val_accuracy: 0.8493\n",
            "Epoch 50/150\n",
            "8/8 [==============================] - 0s 6ms/step - loss: 0.4036 - accuracy: 0.8640 - val_loss: 0.4286 - val_accuracy: 0.8539\n",
            "Epoch 51/150\n",
            "8/8 [==============================] - 0s 6ms/step - loss: 0.4022 - accuracy: 0.8630 - val_loss: 0.4271 - val_accuracy: 0.8539\n",
            "Epoch 52/150\n",
            "8/8 [==============================] - 0s 5ms/step - loss: 0.4007 - accuracy: 0.8620 - val_loss: 0.4259 - val_accuracy: 0.8539\n",
            "Epoch 53/150\n",
            "8/8 [==============================] - 0s 6ms/step - loss: 0.3992 - accuracy: 0.8630 - val_loss: 0.4245 - val_accuracy: 0.8493\n",
            "Epoch 54/150\n",
            "8/8 [==============================] - 0s 6ms/step - loss: 0.3978 - accuracy: 0.8620 - val_loss: 0.4233 - val_accuracy: 0.8493\n",
            "Epoch 55/150\n",
            "8/8 [==============================] - 0s 5ms/step - loss: 0.3963 - accuracy: 0.8620 - val_loss: 0.4221 - val_accuracy: 0.8493\n",
            "Epoch 56/150\n",
            "8/8 [==============================] - 0s 6ms/step - loss: 0.3949 - accuracy: 0.8630 - val_loss: 0.4209 - val_accuracy: 0.8493\n",
            "Epoch 57/150\n",
            "8/8 [==============================] - 0s 5ms/step - loss: 0.3936 - accuracy: 0.8630 - val_loss: 0.4195 - val_accuracy: 0.8493\n",
            "Epoch 58/150\n",
            "8/8 [==============================] - 0s 5ms/step - loss: 0.3922 - accuracy: 0.8640 - val_loss: 0.4183 - val_accuracy: 0.8493\n",
            "Epoch 59/150\n",
            "8/8 [==============================] - 0s 5ms/step - loss: 0.3907 - accuracy: 0.8620 - val_loss: 0.4171 - val_accuracy: 0.8493\n",
            "Epoch 60/150\n",
            "8/8 [==============================] - 0s 6ms/step - loss: 0.3893 - accuracy: 0.8630 - val_loss: 0.4159 - val_accuracy: 0.8493\n",
            "Epoch 61/150\n",
            "8/8 [==============================] - 0s 5ms/step - loss: 0.3879 - accuracy: 0.8630 - val_loss: 0.4146 - val_accuracy: 0.8493\n",
            "Epoch 62/150\n",
            "8/8 [==============================] - 0s 7ms/step - loss: 0.3866 - accuracy: 0.8630 - val_loss: 0.4135 - val_accuracy: 0.8493\n",
            "Epoch 63/150\n",
            "8/8 [==============================] - 0s 6ms/step - loss: 0.3853 - accuracy: 0.8650 - val_loss: 0.4125 - val_accuracy: 0.8493\n",
            "Epoch 64/150\n",
            "8/8 [==============================] - 0s 6ms/step - loss: 0.3840 - accuracy: 0.8630 - val_loss: 0.4111 - val_accuracy: 0.8493\n",
            "Epoch 65/150\n",
            "8/8 [==============================] - 0s 6ms/step - loss: 0.3827 - accuracy: 0.8630 - val_loss: 0.4098 - val_accuracy: 0.8493\n",
            "Epoch 66/150\n",
            "8/8 [==============================] - 0s 7ms/step - loss: 0.3814 - accuracy: 0.8630 - val_loss: 0.4088 - val_accuracy: 0.8493\n",
            "Epoch 67/150\n",
            "8/8 [==============================] - 0s 5ms/step - loss: 0.3801 - accuracy: 0.8640 - val_loss: 0.4076 - val_accuracy: 0.8539\n",
            "Epoch 68/150\n",
            "8/8 [==============================] - 0s 5ms/step - loss: 0.3788 - accuracy: 0.8650 - val_loss: 0.4066 - val_accuracy: 0.8539\n",
            "Epoch 69/150\n",
            "8/8 [==============================] - 0s 6ms/step - loss: 0.3776 - accuracy: 0.8650 - val_loss: 0.4056 - val_accuracy: 0.8493\n",
            "Epoch 70/150\n",
            "8/8 [==============================] - 0s 5ms/step - loss: 0.3763 - accuracy: 0.8650 - val_loss: 0.4045 - val_accuracy: 0.8584\n",
            "Epoch 71/150\n",
            "8/8 [==============================] - 0s 6ms/step - loss: 0.3751 - accuracy: 0.8669 - val_loss: 0.4034 - val_accuracy: 0.8584\n",
            "Epoch 72/150\n",
            "8/8 [==============================] - 0s 6ms/step - loss: 0.3739 - accuracy: 0.8659 - val_loss: 0.4023 - val_accuracy: 0.8584\n",
            "Epoch 73/150\n",
            "8/8 [==============================] - 0s 6ms/step - loss: 0.3727 - accuracy: 0.8659 - val_loss: 0.4013 - val_accuracy: 0.8584\n",
            "Epoch 74/150\n",
            "8/8 [==============================] - 0s 7ms/step - loss: 0.3717 - accuracy: 0.8659 - val_loss: 0.4003 - val_accuracy: 0.8584\n",
            "Epoch 75/150\n",
            "8/8 [==============================] - 0s 6ms/step - loss: 0.3704 - accuracy: 0.8679 - val_loss: 0.3993 - val_accuracy: 0.8584\n",
            "Epoch 76/150\n",
            "8/8 [==============================] - 0s 5ms/step - loss: 0.3692 - accuracy: 0.8669 - val_loss: 0.3984 - val_accuracy: 0.8584\n",
            "Epoch 77/150\n",
            "8/8 [==============================] - 0s 6ms/step - loss: 0.3681 - accuracy: 0.8659 - val_loss: 0.3973 - val_accuracy: 0.8584\n",
            "Epoch 78/150\n",
            "8/8 [==============================] - 0s 5ms/step - loss: 0.3669 - accuracy: 0.8659 - val_loss: 0.3963 - val_accuracy: 0.8584\n",
            "Epoch 79/150\n",
            "8/8 [==============================] - 0s 6ms/step - loss: 0.3657 - accuracy: 0.8659 - val_loss: 0.3953 - val_accuracy: 0.8584\n",
            "Epoch 80/150\n",
            "8/8 [==============================] - 0s 6ms/step - loss: 0.3646 - accuracy: 0.8659 - val_loss: 0.3943 - val_accuracy: 0.8630\n",
            "Epoch 81/150\n",
            "8/8 [==============================] - 0s 6ms/step - loss: 0.3635 - accuracy: 0.8689 - val_loss: 0.3936 - val_accuracy: 0.8584\n",
            "Epoch 82/150\n",
            "8/8 [==============================] - 0s 6ms/step - loss: 0.3624 - accuracy: 0.8679 - val_loss: 0.3926 - val_accuracy: 0.8630\n",
            "Epoch 83/150\n",
            "8/8 [==============================] - 0s 6ms/step - loss: 0.3613 - accuracy: 0.8669 - val_loss: 0.3917 - val_accuracy: 0.8630\n",
            "Epoch 84/150\n",
            "8/8 [==============================] - 0s 7ms/step - loss: 0.3605 - accuracy: 0.8679 - val_loss: 0.3907 - val_accuracy: 0.8630\n",
            "Epoch 85/150\n",
            "8/8 [==============================] - 0s 7ms/step - loss: 0.3593 - accuracy: 0.8669 - val_loss: 0.3898 - val_accuracy: 0.8630\n",
            "Epoch 86/150\n",
            "8/8 [==============================] - 0s 6ms/step - loss: 0.3582 - accuracy: 0.8669 - val_loss: 0.3889 - val_accuracy: 0.8630\n",
            "Epoch 87/150\n",
            "8/8 [==============================] - 0s 6ms/step - loss: 0.3571 - accuracy: 0.8708 - val_loss: 0.3881 - val_accuracy: 0.8630\n",
            "Epoch 88/150\n",
            "8/8 [==============================] - 0s 7ms/step - loss: 0.3563 - accuracy: 0.8699 - val_loss: 0.3874 - val_accuracy: 0.8630\n",
            "Epoch 89/150\n",
            "8/8 [==============================] - 0s 7ms/step - loss: 0.3551 - accuracy: 0.8708 - val_loss: 0.3865 - val_accuracy: 0.8630\n",
            "Epoch 90/150\n",
            "8/8 [==============================] - 0s 6ms/step - loss: 0.3542 - accuracy: 0.8699 - val_loss: 0.3856 - val_accuracy: 0.8676\n",
            "Epoch 91/150\n",
            "8/8 [==============================] - 0s 5ms/step - loss: 0.3532 - accuracy: 0.8728 - val_loss: 0.3849 - val_accuracy: 0.8676\n",
            "Epoch 92/150\n",
            "8/8 [==============================] - 0s 5ms/step - loss: 0.3523 - accuracy: 0.8718 - val_loss: 0.3843 - val_accuracy: 0.8630\n",
            "Epoch 93/150\n",
            "8/8 [==============================] - 0s 6ms/step - loss: 0.3513 - accuracy: 0.8699 - val_loss: 0.3834 - val_accuracy: 0.8676\n",
            "Epoch 94/150\n",
            "8/8 [==============================] - 0s 6ms/step - loss: 0.3503 - accuracy: 0.8708 - val_loss: 0.3826 - val_accuracy: 0.8676\n",
            "Epoch 95/150\n",
            "8/8 [==============================] - 0s 7ms/step - loss: 0.3494 - accuracy: 0.8708 - val_loss: 0.3817 - val_accuracy: 0.8676\n",
            "Epoch 96/150\n",
            "8/8 [==============================] - 0s 7ms/step - loss: 0.3485 - accuracy: 0.8718 - val_loss: 0.3809 - val_accuracy: 0.8630\n",
            "Epoch 97/150\n",
            "8/8 [==============================] - 0s 6ms/step - loss: 0.3475 - accuracy: 0.8748 - val_loss: 0.3803 - val_accuracy: 0.8676\n",
            "Epoch 98/150\n",
            "8/8 [==============================] - 0s 6ms/step - loss: 0.3466 - accuracy: 0.8718 - val_loss: 0.3795 - val_accuracy: 0.8676\n",
            "Epoch 99/150\n",
            "8/8 [==============================] - 0s 6ms/step - loss: 0.3458 - accuracy: 0.8708 - val_loss: 0.3787 - val_accuracy: 0.8584\n",
            "Epoch 100/150\n",
            "8/8 [==============================] - 0s 7ms/step - loss: 0.3449 - accuracy: 0.8748 - val_loss: 0.3780 - val_accuracy: 0.8584\n",
            "Epoch 101/150\n",
            "8/8 [==============================] - 0s 6ms/step - loss: 0.3443 - accuracy: 0.8708 - val_loss: 0.3773 - val_accuracy: 0.8584\n",
            "Epoch 102/150\n",
            "8/8 [==============================] - 0s 6ms/step - loss: 0.3431 - accuracy: 0.8718 - val_loss: 0.3766 - val_accuracy: 0.8584\n",
            "Epoch 103/150\n",
            "8/8 [==============================] - 0s 6ms/step - loss: 0.3423 - accuracy: 0.8728 - val_loss: 0.3760 - val_accuracy: 0.8584\n",
            "Epoch 104/150\n",
            "8/8 [==============================] - 0s 6ms/step - loss: 0.3416 - accuracy: 0.8728 - val_loss: 0.3754 - val_accuracy: 0.8584\n",
            "Epoch 105/150\n",
            "8/8 [==============================] - 0s 7ms/step - loss: 0.3407 - accuracy: 0.8738 - val_loss: 0.3749 - val_accuracy: 0.8630\n",
            "Epoch 106/150\n",
            "8/8 [==============================] - 0s 7ms/step - loss: 0.3400 - accuracy: 0.8728 - val_loss: 0.3744 - val_accuracy: 0.8676\n",
            "Epoch 107/150\n",
            "8/8 [==============================] - 0s 8ms/step - loss: 0.3391 - accuracy: 0.8718 - val_loss: 0.3736 - val_accuracy: 0.8630\n",
            "Epoch 108/150\n",
            "8/8 [==============================] - 0s 5ms/step - loss: 0.3383 - accuracy: 0.8708 - val_loss: 0.3729 - val_accuracy: 0.8584\n",
            "Epoch 109/150\n",
            "8/8 [==============================] - 0s 5ms/step - loss: 0.3375 - accuracy: 0.8738 - val_loss: 0.3723 - val_accuracy: 0.8584\n",
            "Epoch 110/150\n",
            "8/8 [==============================] - 0s 6ms/step - loss: 0.3367 - accuracy: 0.8757 - val_loss: 0.3717 - val_accuracy: 0.8584\n",
            "Epoch 111/150\n",
            "8/8 [==============================] - 0s 8ms/step - loss: 0.3360 - accuracy: 0.8738 - val_loss: 0.3710 - val_accuracy: 0.8584\n",
            "Epoch 112/150\n",
            "8/8 [==============================] - 0s 5ms/step - loss: 0.3352 - accuracy: 0.8728 - val_loss: 0.3702 - val_accuracy: 0.8584\n",
            "Epoch 113/150\n",
            "8/8 [==============================] - 0s 5ms/step - loss: 0.3345 - accuracy: 0.8777 - val_loss: 0.3697 - val_accuracy: 0.8584\n",
            "Epoch 114/150\n",
            "8/8 [==============================] - 0s 5ms/step - loss: 0.3339 - accuracy: 0.8738 - val_loss: 0.3692 - val_accuracy: 0.8584\n",
            "Epoch 115/150\n",
            "8/8 [==============================] - 0s 5ms/step - loss: 0.3331 - accuracy: 0.8748 - val_loss: 0.3686 - val_accuracy: 0.8630\n",
            "Epoch 116/150\n",
            "8/8 [==============================] - 0s 5ms/step - loss: 0.3323 - accuracy: 0.8757 - val_loss: 0.3679 - val_accuracy: 0.8630\n",
            "Epoch 117/150\n",
            "8/8 [==============================] - 0s 6ms/step - loss: 0.3317 - accuracy: 0.8748 - val_loss: 0.3674 - val_accuracy: 0.8630\n",
            "Epoch 118/150\n",
            "8/8 [==============================] - 0s 6ms/step - loss: 0.3308 - accuracy: 0.8757 - val_loss: 0.3671 - val_accuracy: 0.8584\n",
            "Epoch 119/150\n",
            "8/8 [==============================] - 0s 8ms/step - loss: 0.3302 - accuracy: 0.8728 - val_loss: 0.3665 - val_accuracy: 0.8584\n",
            "Epoch 120/150\n",
            "8/8 [==============================] - 0s 8ms/step - loss: 0.3295 - accuracy: 0.8757 - val_loss: 0.3661 - val_accuracy: 0.8584\n",
            "Epoch 121/150\n",
            "8/8 [==============================] - 0s 6ms/step - loss: 0.3287 - accuracy: 0.8738 - val_loss: 0.3654 - val_accuracy: 0.8630\n",
            "Epoch 122/150\n",
            "8/8 [==============================] - 0s 6ms/step - loss: 0.3282 - accuracy: 0.8718 - val_loss: 0.3646 - val_accuracy: 0.8630\n",
            "Epoch 123/150\n",
            "8/8 [==============================] - 0s 7ms/step - loss: 0.3276 - accuracy: 0.8757 - val_loss: 0.3640 - val_accuracy: 0.8584\n",
            "Epoch 124/150\n",
            "8/8 [==============================] - 0s 6ms/step - loss: 0.3269 - accuracy: 0.8767 - val_loss: 0.3636 - val_accuracy: 0.8584\n",
            "Epoch 125/150\n",
            "8/8 [==============================] - 0s 6ms/step - loss: 0.3262 - accuracy: 0.8748 - val_loss: 0.3631 - val_accuracy: 0.8584\n",
            "Epoch 126/150\n",
            "8/8 [==============================] - 0s 6ms/step - loss: 0.3257 - accuracy: 0.8767 - val_loss: 0.3628 - val_accuracy: 0.8630\n",
            "Epoch 127/150\n",
            "8/8 [==============================] - 0s 6ms/step - loss: 0.3250 - accuracy: 0.8757 - val_loss: 0.3624 - val_accuracy: 0.8630\n",
            "Epoch 128/150\n",
            "8/8 [==============================] - 0s 6ms/step - loss: 0.3247 - accuracy: 0.8738 - val_loss: 0.3617 - val_accuracy: 0.8584\n",
            "Epoch 129/150\n",
            "8/8 [==============================] - 0s 5ms/step - loss: 0.3239 - accuracy: 0.8748 - val_loss: 0.3615 - val_accuracy: 0.8630\n",
            "Epoch 130/150\n",
            "8/8 [==============================] - 0s 5ms/step - loss: 0.3231 - accuracy: 0.8767 - val_loss: 0.3609 - val_accuracy: 0.8584\n",
            "Epoch 131/150\n",
            "8/8 [==============================] - 0s 6ms/step - loss: 0.3225 - accuracy: 0.8757 - val_loss: 0.3606 - val_accuracy: 0.8630\n",
            "Epoch 132/150\n",
            "8/8 [==============================] - 0s 7ms/step - loss: 0.3219 - accuracy: 0.8767 - val_loss: 0.3602 - val_accuracy: 0.8630\n",
            "Epoch 133/150\n",
            "8/8 [==============================] - 0s 6ms/step - loss: 0.3214 - accuracy: 0.8728 - val_loss: 0.3596 - val_accuracy: 0.8584\n",
            "Epoch 134/150\n",
            "8/8 [==============================] - 0s 6ms/step - loss: 0.3207 - accuracy: 0.8757 - val_loss: 0.3592 - val_accuracy: 0.8584\n",
            "Epoch 135/150\n",
            "8/8 [==============================] - 0s 6ms/step - loss: 0.3202 - accuracy: 0.8777 - val_loss: 0.3588 - val_accuracy: 0.8584\n",
            "Epoch 136/150\n",
            "8/8 [==============================] - 0s 7ms/step - loss: 0.3198 - accuracy: 0.8767 - val_loss: 0.3583 - val_accuracy: 0.8584\n",
            "Epoch 137/150\n",
            "8/8 [==============================] - 0s 6ms/step - loss: 0.3191 - accuracy: 0.8738 - val_loss: 0.3579 - val_accuracy: 0.8584\n",
            "Epoch 138/150\n",
            "8/8 [==============================] - 0s 5ms/step - loss: 0.3184 - accuracy: 0.8767 - val_loss: 0.3577 - val_accuracy: 0.8539\n",
            "Epoch 139/150\n",
            "8/8 [==============================] - 0s 7ms/step - loss: 0.3180 - accuracy: 0.8728 - val_loss: 0.3572 - val_accuracy: 0.8584\n",
            "Epoch 140/150\n",
            "8/8 [==============================] - 0s 6ms/step - loss: 0.3174 - accuracy: 0.8757 - val_loss: 0.3569 - val_accuracy: 0.8584\n",
            "Epoch 141/150\n",
            "8/8 [==============================] - 0s 5ms/step - loss: 0.3170 - accuracy: 0.8757 - val_loss: 0.3564 - val_accuracy: 0.8584\n",
            "Epoch 142/150\n",
            "8/8 [==============================] - 0s 6ms/step - loss: 0.3163 - accuracy: 0.8757 - val_loss: 0.3562 - val_accuracy: 0.8584\n",
            "Epoch 143/150\n",
            "8/8 [==============================] - 0s 6ms/step - loss: 0.3158 - accuracy: 0.8767 - val_loss: 0.3557 - val_accuracy: 0.8584\n",
            "Epoch 144/150\n",
            "8/8 [==============================] - 0s 6ms/step - loss: 0.3153 - accuracy: 0.8738 - val_loss: 0.3552 - val_accuracy: 0.8630\n",
            "Epoch 145/150\n",
            "8/8 [==============================] - 0s 8ms/step - loss: 0.3148 - accuracy: 0.8748 - val_loss: 0.3550 - val_accuracy: 0.8630\n",
            "Epoch 146/150\n",
            "8/8 [==============================] - 0s 6ms/step - loss: 0.3145 - accuracy: 0.8757 - val_loss: 0.3547 - val_accuracy: 0.8584\n",
            "Epoch 147/150\n",
            "8/8 [==============================] - 0s 6ms/step - loss: 0.3138 - accuracy: 0.8748 - val_loss: 0.3545 - val_accuracy: 0.8584\n",
            "Epoch 148/150\n",
            "8/8 [==============================] - 0s 7ms/step - loss: 0.3134 - accuracy: 0.8748 - val_loss: 0.3541 - val_accuracy: 0.8584\n",
            "Epoch 149/150\n",
            "8/8 [==============================] - 0s 6ms/step - loss: 0.3129 - accuracy: 0.8748 - val_loss: 0.3538 - val_accuracy: 0.8630\n",
            "Epoch 150/150\n",
            "8/8 [==============================] - 0s 5ms/step - loss: 0.3128 - accuracy: 0.8757 - val_loss: 0.3534 - val_accuracy: 0.8630\n"
          ]
        },
        {
          "output_type": "execute_result",
          "data": {
            "text/plain": [
              "<keras.callbacks.History at 0x7f9a4d2da690>"
            ]
          },
          "metadata": {},
          "execution_count": 21
        }
      ]
    },
    {
      "cell_type": "code",
      "metadata": {
        "colab": {
          "base_uri": "https://localhost:8080/"
        },
        "id": "CQd4TQGHEYi1",
        "outputId": "7a90f9c9-5f24-4626-fc7e-acc46358850b"
      },
      "source": [
        "#find the accuracy on our test set\n",
        "model.evaluate(X_test, Y_test)[1]\n"
      ],
      "execution_count": null,
      "outputs": [
        {
          "output_type": "stream",
          "name": "stdout",
          "text": [
            "7/7 [==============================] - 0s 2ms/step - loss: 0.3534 - accuracy: 0.8630\n"
          ]
        },
        {
          "output_type": "execute_result",
          "data": {
            "text/plain": [
              "0.8630136847496033"
            ]
          },
          "metadata": {},
          "execution_count": 22
        }
      ]
    },
    {
      "cell_type": "code",
      "metadata": {
        "id": "1xV-ULuSHbsw"
      },
      "source": [
        ""
      ],
      "execution_count": null,
      "outputs": []
    }
  ]
}